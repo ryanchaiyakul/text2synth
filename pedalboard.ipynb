{
 "cells": [
  {
   "cell_type": "code",
   "execution_count": null,
   "id": "a96e54e1",
   "metadata": {},
   "outputs": [],
   "source": [
    "import mido\n",
    "from pedalboard import load_plugin\n",
    "import soundfile as sf\n",
    "\n",
    "# Load Vital synth plugin\n",
    "vital = load_plugin(\"C:/Program Files/Common Files/VST3/Vital.vst3\")\n",
    "\n",
    "# Build a MIDI scale (C major)\n",
    "notes = [60, 62, 64, 65, 67, 69, 71, 72]\n",
    "midi_messages = []\n",
    "\n",
    "time = 0.0\n",
    "note_duration = 0.5  # seconds\n",
    "for note in notes:\n",
    "    on = mido.Message('note_on', note=note, velocity=100, time=0)\n",
    "    off = mido.Message('note_off', note=note, velocity=100, time=int(note_duration * 1000))\n",
    "\n",
    "    midi_messages.append((on.bytes(), time))\n",
    "    time += note_duration\n",
    "    midi_messages.append((off.bytes(), time))\n",
    "\n",
    "# Total audio duration\n",
    "duration = len(notes) * note_duration\n",
    "sample_rate = 44100\n",
    "\n",
    "# Call the plugin's process method\n",
    "output = vital.process(\n",
    "    midi_messages=midi_messages,\n",
    "    duration=duration,\n",
    "    sample_rate=sample_rate,\n",
    "    num_channels=2,  # Stereo\n",
    "    buffer_size=8192,\n",
    "    reset=True,\n",
    ")\n",
    "\n",
    "sf.write('vital_scale.wav', output.T, sample_rate)"
   ]
  }
 ],
 "metadata": {
  "kernelspec": {
   "display_name": ".venv",
   "language": "python",
   "name": "python3"
  },
  "language_info": {
   "codemirror_mode": {
    "name": "ipython",
    "version": 3
   },
   "file_extension": ".py",
   "mimetype": "text/x-python",
   "name": "python",
   "nbconvert_exporter": "python",
   "pygments_lexer": "ipython3",
   "version": "3.12.1"
  }
 },
 "nbformat": 4,
 "nbformat_minor": 5
}
